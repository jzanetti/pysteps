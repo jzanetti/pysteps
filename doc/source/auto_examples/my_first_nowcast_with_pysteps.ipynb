{
  "cells": [
    {
      "cell_type": "code",
      "execution_count": null,
      "metadata": {
        "collapsed": false
      },
      "outputs": [],
      "source": [
        "%matplotlib inline"
      ]
    },
    {
      "cell_type": "markdown",
      "metadata": {},
      "source": [
        " My first nowcast with pysteps\n\nPysteps 'hello world' script.\n\nCompute your first deterministic radar extrapolation nowcast with pysteps.\n\nMore info: https://pysteps.github.io/\n\n"
      ]
    },
    {
      "cell_type": "code",
      "execution_count": null,
      "metadata": {
        "collapsed": false
      },
      "outputs": [],
      "source": [
        "import matplotlib.pylab as plt\nimport numpy as np\nimport pysteps as stp\n\n# Get the two last observations\n\n## read two consecutive radar fields \nfilenames = (\"sample_mch_radar_composite_00.gif\",\"sample_mch_radar_composite_01.gif\")\nR = []\nfor fn in filenames:\n    R_, _, metadata = stp.io.import_mch_gif(fn)\n    R.append(R_)\n    R_ = None\nR = np.stack(R)\n\n## convert to mm/h\nR, metadata = stp.utils.to_rainrate(R, metadata)\n\n## threshold the data\nR[R<0.1] = 0.0\n\n## copy the original data\nR_ = R.copy()\n\n## set NaN equal to zero\nR_[~np.isfinite(R_)] = 0.0\n\n## transform to dBR\nR_, _ = stp.utils.dB_transform(R_)\n\n# Compute motion field\n\noflow_method = stp.motion.get_method(\"lucaskanade\")\nUV = oflow_method(R_) \n\n# Perform the advection of the radar field\n\nn_lead_times = 12 \nadv_method = stp.extrapolation.get_method(\"semilagrangian\") \nR_fct = adv_method(R_[-1,:,:], UV, n_lead_times, verbose=True)\n\n## transform forecast values back to mm/h\nR_fct, _ = stp.utils.dB_transform(R_fct, inverse=True)\n\n# Plot the nowcast...\n\nstp.plt.animate(R, R_fct=R_fct, UV=UV, nloops=5)"
      ]
    }
  ],
  "metadata": {
    "kernelspec": {
      "display_name": "Python 3",
      "language": "python",
      "name": "python3"
    },
    "language_info": {
      "codemirror_mode": {
        "name": "ipython",
        "version": 3
      },
      "file_extension": ".py",
      "mimetype": "text/x-python",
      "name": "python",
      "nbconvert_exporter": "python",
      "pygments_lexer": "ipython3",
      "version": "3.6.7"
    }
  },
  "nbformat": 4,
  "nbformat_minor": 0
}