{
  "cells": [
    {
      "cell_type": "code",
      "execution_count": null,
      "metadata": {
        "collapsed": false
      },
      "outputs": [],
      "source": [
        "%matplotlib inline"
      ]
    },
    {
      "cell_type": "markdown",
      "metadata": {},
      "source": [
        "Cascade decomposition\n\nThis script computes and plots the cascade decompositon of a single radar \nprecipitation field.\n\nMore info: https://pysteps.github.io/\n\n"
      ]
    },
    {
      "cell_type": "code",
      "execution_count": null,
      "metadata": {
        "collapsed": false
      },
      "outputs": [],
      "source": [
        "import datetime\nfrom matplotlib import cm, ticker\nimport matplotlib.pylab as plt\nimport numpy as np\nimport os\n\nimport pysteps as stp\n\n# List of case studies that can be used in this tutorial\n\n#+-------+--------------+-------------+----------------------------------------+\n#| event |  start_time  | data_source | description                            |\n#+=======+==============+=============+========================================+\n#|  01   | 201701311030 |     mch     | orographic precipitation               |\n#+-------+--------------+-------------+----------------------------------------+\n#|  02   | 201505151630 |     mch     | non-stationary field, apparent rotation|\n#+-------+--------------+------------------------------------------------------+\n#|  03   | 201609281530 |     fmi     | stratiform rain band                   |\n#+-------+--------------+-------------+----------------------------------------+\n#|  04   | 201705091130 |     fmi     | widespread convective activity         |\n#+-------+--------------+-------------+----------------------------------------+\n#|  05   | 201806161100 |     bom     | bom example data                       |\n#+-------+--------------+-------------+----------------------------------------+\n\n# Set parameters for this tutorial\n\n## input data (copy/paste values from table above)\nstartdate_str = \"201701311030\"\ndata_source   = \"mch\"\n\n## parameters\nr_threshold         = 0.1 # [mm/h]\nnum_cascade_levels  = 6\nunit                = \"mm/h\"    # mm/h or dBZ\ntransformation      = \"dB\"      # None or dB \nadjust_domain       = None      # None or \"square\"\n\n# Read-in the data\nprint('Read the data...')\nstartdate  = datetime.datetime.strptime(startdate_str, \"%Y%m%d%H%M\")\n\n## import data specifications\nds = stp.rcparams.data_sources[data_source]\n\n## find radar field filenames\ninput_files = stp.io.find_by_date(startdate, ds.root_path, ds.path_fmt, ds.fn_pattern, \n                                  ds.fn_ext, ds.timestep, 0, 0)\n\n## read radar field files\nimporter = stp.io.get_method(ds.importer, \"importer\")\nR, _, metadata = stp.io.read_timeseries(input_files, importer, **ds.importer_kwargs)\nR = R.squeeze() # since this contains just one frame\nRmask = np.isnan(R)\n\n# Prepare input files\nprint(\"Prepare the data...\")\n\n## if necessary, convert to rain rates [mm/h]    \nconverter = stp.utils.get_method(unit)\nR, metadata = converter(R, metadata)\n\n## threshold the data\nR[R<r_threshold] = 0.0\nmetadata[\"threshold\"] = r_threshold\n\n## if requested, make sure we work with a square domain\nreshaper = stp.utils.get_method(adjust_domain)\nR_, metadata_ = reshaper(R, metadata, method=\"pad\")\n\n## if requested, transform the data\ntransformer = stp.utils.get_method(transformation)\nR_, metadata_ = transformer(R_, metadata_)\n\n## set NaN equal to zero\nR_[~np.isfinite(R_)] = metadata_[\"zerovalue\"]\n\n# Plot the Fourier transform of the input field\n\nF = abs(np.fft.fftshift(np.fft.fft2(R_)))\nfig = plt.figure()\nM,N = F.shape\nim = plt.imshow(np.log(F**2), vmin=4, vmax=24, cmap=cm.jet, \n                extent=(-N/2, N/2, -M/2, M/2))\ncb = fig.colorbar(im)\nplt.xlabel(\"Wavenumber $k_x$\")\nplt.ylabel(\"Wavenumber $k_y$\")\nplt.title(\"Log-power spectrum of R\")\nplt.show()\n\n# Cascade decomposition\n\n## construct the Gaussian bandpass filter\nbandapass_filter = stp.cascade.get_method(\"gaussian\")\nfilter = bandapass_filter(R_.shape, num_cascade_levels, gauss_scale=0.5, \n                          gauss_scale_0=0.5)\n\n## plot the bandpass filter weights\nfig = plt.figure()\nax = fig.gca()\nL = max(N, M)\nfor k in range(num_cascade_levels):\n    ax.semilogx(np.linspace(0, L/2, len(filter[\"weights_1d\"][k, :])), \n                filter[\"weights_1d\"][k, :], \"k-\", \n                basex=pow(0.5*L/3, 1.0/(num_cascade_levels-2)))\n                \nax.set_xlim(1, L/2)\nax.set_ylim(0, 1)\nax.get_xaxis().set_major_formatter(ticker.ScalarFormatter())\nxt = np.hstack([[1.0], filter[\"central_wavenumbers\"][1:]])\nax.set_xticks(xt)\nax.set_xticklabels([\"%.2f\" % cf for cf in filter[\"central_wavenumbers\"]])\nax.set_xlabel(\"Radial wavenumber $|\\mathbf{k}|$\")\nax.set_ylabel(\"Normalized weight\")\nax.set_title(\"Bandpass filter weights\")\nplt.show()\n\n## compute the cascade decomposition\ndecomposition = stp.cascade.get_method(\"fft\")\ncascade = decomposition(R_, filter)\n\n## plot the normalized cascade levels (mean zero and standard deviation one)\ngrid_res_km = max(metadata[\"xpixelsize\"], metadata[\"ypixelsize\"])/1000.\nmu,sigma = cascade[\"means\"],cascade[\"stds\"]\nnrows = int(np.ceil((1+num_cascade_levels)/4.))\nplt.subplot(nrows,4,1)\nfor k in range(num_cascade_levels+1):\n    if k==0:\n        plt.subplot(nrows,4,k+1)\n        stp.plt.plot_precip_field(R, units=unit, title=\"Rainfall field\", colorbar=False)\n    else:\n        R_k = cascade[\"cascade_levels\"][k-1, :, :]\n        R_k = (R_k - mu[k-1]) / sigma[k-1]\n        plt.subplot(nrows,4,k+1)\n        im = plt.imshow(R_k, cmap=cm.jet, vmin=-6, vmax=6)\n        # cb = plt.colorbar(im)\n        cb.set_label(\"Rainfall rate (dBR)\")\n        plt.xticks([])\n        plt.yticks([])\n        if filter[\"central_wavenumbers\"][k-1]==0:\n            plt.title(\"Normalized cascade level %d (%i km)\" % (k, L*grid_res_km))\n        else:\n            plt.title(\"Normalized cascade level %d (%i km)\" % (k, L*1./filter[\"central_wavenumbers\"][k-1]*grid_res_km))\nplt.show()"
      ]
    }
  ],
  "metadata": {
    "kernelspec": {
      "display_name": "Python 3",
      "language": "python",
      "name": "python3"
    },
    "language_info": {
      "codemirror_mode": {
        "name": "ipython",
        "version": 3
      },
      "file_extension": ".py",
      "mimetype": "text/x-python",
      "name": "python",
      "nbconvert_exporter": "python",
      "pygments_lexer": "ipython3",
      "version": "3.6.7"
    }
  },
  "nbformat": 4,
  "nbformat_minor": 0
}