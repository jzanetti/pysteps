{
  "cells": [
    {
      "cell_type": "code",
      "execution_count": null,
      "metadata": {
        "collapsed": false
      },
      "outputs": [],
      "source": [
        "%matplotlib inline"
      ]
    },
    {
      "cell_type": "markdown",
      "metadata": {},
      "source": [
        "Motion field estimation and extrapolation forecast\n\nThe script shows how to run a deterministic radar-based extrapolation nowcast with\npysteps.\n\nMore info: https://pysteps.github.io/\n\n"
      ]
    },
    {
      "cell_type": "code",
      "execution_count": null,
      "metadata": {
        "collapsed": false
      },
      "outputs": [],
      "source": [
        "import datetime\nimport matplotlib.pylab as plt\nimport numpy as np\nimport pickle\nimport os\n\nimport pysteps as stp\n\n# List of case studies that can be used in this tutorial\n\n#+-------+--------------+-------------+----------------------------------------+\n#| event |  start_time  | data_source | description                            |\n#+=======+==============+=============+========================================+\n#|  01   | 201701311030 |     mch     | orographic precipitation               |\n#+-------+--------------+-------------+----------------------------------------+\n#|  02   | 201505151630 |     mch     | non-stationary field, apparent rotation|\n#+-------+--------------+------------------------------------------------------+\n#|  03   | 201609281530 |     fmi     | stratiform rain band                   |\n#+-------+--------------+-------------+----------------------------------------+\n#|  04   | 201705091130 |     fmi     | widespread convective activity         |\n#+-------+--------------+-------------+----------------------------------------+\n#|  05   | 201806161100 |     bom     | bom example data                       |\n#+-------+--------------+-------------+----------------------------------------+\n\n# Set parameters for this tutorial\n\n## input data (copy/paste values from table above)\nstartdate_str = \"201701311030\"\ndata_source   = \"mch\"\n\n## methods\noflow_method    = \"lucaskanade\"      # lucaskanade, darts, None\nadv_method      = \"semilagrangian\"   # semilagrangian, eulerian\n\n## forecast parameters\nn_prvs_times    = 3                  # use at least 9 with DARTS\nn_lead_times    = 24\nunit            = \"mm/h\"             # mm/h or dBZ\ntransformation  = \"dB\"               # None or dB\nr_threshold     = 0.1                # rain/no-rain threshold [mm/h]\n\n## verification parameters\nskill_score     = \"CSI\"\nv_threshold     = 1 # [mm/h]\n\n# Read-in the data\nprint('Read the data...')\nstartdate  = datetime.datetime.strptime(startdate_str, \"%Y%m%d%H%M\")\n\n## import data specifications\nds = stp.rcparams.data_sources[data_source]\n\n## find radar field filenames\ninput_files = stp.io.find_by_date(startdate, ds.root_path, ds.path_fmt, ds.fn_pattern,\n                                 ds.fn_ext, ds.timestep, n_prvs_times, 0)\n\n## read radar field files\nimporter = stp.io.get_method(ds.importer, \"importer\")\nR, _, metadata = stp.io.read_timeseries(input_files, importer, **ds.importer_kwargs)\nRmask = np.isnan(R)\nprint(\"The data array has size [nleadtimes,nrows,ncols] =\", R.shape)\n\n# Prepare input files\nprint(\"Prepare the data...\")\n\n## if necessary, convert to rain rates [mm/h]\nconverter = stp.utils.get_method(\"mm/h\")\nR, metadata = converter(R, metadata)\n\n## threshold the data\nR[R<r_threshold] = 0.0\nmetadata[\"threshold\"] = r_threshold\n\n## convert the data\nconverter = stp.utils.get_method(unit)\nR, metadata = converter(R, metadata)\n\n## transform the data\ntransformer = stp.utils.get_method(transformation)\nR, metadata = transformer(R, metadata)\n\n## set NaN equal to zero\nR[~np.isfinite(R)] = metadata[\"zerovalue\"]\n\n# Compute motion field\noflow_method = stp.motion.get_method(oflow_method)\nUV = oflow_method(R)\n\n# Perform the advection of the radar field\nadv_method = stp.extrapolation.get_method(adv_method)\nR_fct = adv_method(R[-1,:,:], UV, n_lead_times, verbose=True)\nprint(\"The forecast array has size [nleadtimes,nrows,ncols] =\", R_fct.shape)\n\n## if necessary, transform back all data\nR_fct, _    = transformer(R_fct, metadata, inverse=True)\nR, metadata = transformer(R, metadata, inverse=True)\n\n## convert all data to mm/h\nconverter   = stp.utils.get_method(\"mm/h\")\nR_fct, _    = converter(R_fct, metadata)\nR, metadata = converter(R, metadata)\n\n## plot the nowcast...\nR[Rmask] = np.nan # reapply radar mask\nstp.plt.animate(R, nloops=2, timestamps=metadata[\"timestamps\"],\n                R_fct=R_fct, timestep_min=ds.timestep,\n                UV=UV,\n                motion_plot=stp.rcparams.plot.motion_plot,\n                geodata=metadata,\n                colorscale=stp.rcparams.plot.colorscale,\n                plotanimation=True, savefig=False,\n                path_outputs=stp.rcparams.outputs.path_outputs)\n\n# Forecast verification\nprint(\"Forecast verification...\")\n\n## find the verifying observations\ninput_files_verif = stp.io.find_by_date(startdate, ds.root_path, ds.path_fmt, ds.fn_pattern,\n                                        ds.fn_ext, ds.timestep, 0, n_lead_times)\n\n## read observations\nR_obs, _, metadata_obs = stp.io.read_timeseries(input_files_verif, importer, **ds.importer_kwargs)\nR_obs = R_obs[1:,:,:]\n\n## if necessary, convert to rain rates [mm/h]\nR_obs, metadata_obs = converter(R_obs, metadata_obs)\n\n## threshold the data\nR_obs[R_obs<r_threshold] = 0.0\nmetadata_obs[\"threshold\"] = r_threshold\n\n## compute verification scores\nscores = np.zeros(n_lead_times)*np.nan\nfor i in range(n_lead_times):\n    scores[i] = stp.vf.det_cat_fct(R_fct[i,:,:], R_obs[i,:,:],\n                                    v_threshold)[skill_score]\n\n## if already exists, load the figure object to append the new verification results\nfilename = \"%s/%s\" % (stp.rcparams.outputs.path_outputs, \"verif_deterministic_nwc_example\")\nif os.path.exists(\"%s.dat\" % filename):\n    ax = pickle.load(open(\"%s.dat\" % filename, \"rb\"))\n    print(\"Figure object loaded: %s.dat\" % filename)\nelse:\n    fig, ax = plt.subplots()\n\n## plot the scores\nnplots = len(ax.lines)\nx = (np.arange(n_lead_times) + 1)*ds.timestep\nax.plot(x, scores, color='C%i'%(nplots + 1), label = \"run %02d\" % (nplots + 1))\nax.set_xlabel(\"Lead-time [min]\")\nax.set_ylabel(\"%s\" % skill_score)\nplt.legend()\n\n## dump the figure object\npickle.dump(plt.gca(), open(\"%s.dat\" % filename, \"wb\"))\nprint(\"Figure object saved: %s.dat\" % filename)\n# remove the pickle object to plot a new figure\n\nplt.show()"
      ]
    }
  ],
  "metadata": {
    "kernelspec": {
      "display_name": "Python 3",
      "language": "python",
      "name": "python3"
    },
    "language_info": {
      "codemirror_mode": {
        "name": "ipython",
        "version": 3
      },
      "file_extension": ".py",
      "mimetype": "text/x-python",
      "name": "python",
      "nbconvert_exporter": "python",
      "pygments_lexer": "ipython3",
      "version": "3.6.7"
    }
  },
  "nbformat": 4,
  "nbformat_minor": 0
}