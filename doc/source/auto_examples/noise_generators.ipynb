{
  "cells": [
    {
      "cell_type": "code",
      "execution_count": null,
      "metadata": {
        "collapsed": false
      },
      "outputs": [],
      "source": [
        "%matplotlib inline"
      ]
    },
    {
      "cell_type": "markdown",
      "metadata": {},
      "source": [
        "Generation of stochastic noise\n\nThis script shows the stochastic noise generators included in pysteps.\n\nMore info: https://pysteps.github.io/\n\n"
      ]
    },
    {
      "cell_type": "code",
      "execution_count": null,
      "metadata": {
        "collapsed": false
      },
      "outputs": [],
      "source": [
        "import datetime\nfrom matplotlib import cm\nimport matplotlib.pylab as plt\nimport numpy as np\nimport os\n\nimport pysteps as stp\n\n# List of case studies that can be used in this tutorial\n\n#+-------+--------------+-------------+----------------------------------------+\n#| event |  start_time  | data_source | description                            |\n#+=======+==============+=============+========================================+\n#|  01   | 201701311030 |     mch     | orographic precipitation               |\n#+-------+--------------+-------------+----------------------------------------+\n#|  02   | 201505151630 |     mch     | non-stationary field, apparent rotation|\n#+-------+--------------+------------------------------------------------------+\n#|  03   | 201609281530 |     fmi     | stratiform rain band                   |\n#+-------+--------------+-------------+----------------------------------------+\n#|  04   | 201705091130 |     fmi     | widespread convective activity         |\n#+-------+--------------+-------------+----------------------------------------+\n#|  05   | 201806161100 |     bom     | bom example data                       |\n#+-------+--------------+-------------+----------------------------------------+\n\n# Set parameters for this tutorial\n\n## input data (copy/paste values from table above)\nstartdate_str = \"201701311030\"\ndata_source   = \"mch\"\n\n## parameters\nn_prvs_times        = 3\nr_threshold         = 0.1 # [mm/h]\nnoise_method        = \"nonparametric\" # parametric, nonparametric, ssft\nnum_realizations    = 7\nunit                = \"mm/h\"    # mm/h or dBZ\ntransformation      = \"dB\"      # None or dB \nadjust_domain       = None      # None or \"square\"\nseed                = 42        # for reproducibility\n\n# Read-in the data\nprint('Read the data...')\nstartdate  = datetime.datetime.strptime(startdate_str, \"%Y%m%d%H%M\")\n\n## import data specifications\nds = stp.rcparams.data_sources[data_source]\n\n## find radar field filenames\ninput_files = stp.io.find_by_date(startdate, ds.root_path, ds.path_fmt, ds.fn_pattern, \n                                  ds.fn_ext, ds.timestep, n_prvs_times, 0)\n\n## read radar field files\nimporter = stp.io.get_method(ds.importer, \"importer\")\nR, _, metadata = stp.io.read_timeseries(input_files, importer, **ds.importer_kwargs)\nRmask = np.isnan(R)\n\n# Prepare input files\nprint(\"Prepare the data...\")\n\n## if necessary, convert to rain rates [mm/h]    \nconverter = stp.utils.get_method(\"mm/h\")\nR, metadata = converter(R, metadata)\n\n## threshold the data\nR[R<r_threshold] = 0.0\nmetadata[\"threshold\"] = r_threshold\n\n## convert the data\nconverter = stp.utils.get_method(unit)\nR, metadata = converter(R, metadata)\n\n## transform the data\ntransformer = stp.utils.get_method(transformation)\nR, metadata = transformer(R, metadata)\n\n## if requested, make sure we work with a square domain\nreshaper = stp.utils.get_method(adjust_domain)\nR, metadata = reshaper(R, metadata, method=\"pad\")\n\n## set NaN equal to zero\nR[~np.isfinite(R)] = metadata[\"zerovalue\"]\n\n# Noise generation\n\n# initialize the filter for generating the noise\n# the Fourier spectrum of the input field in dBR is used as a filter (i.e. the \n# \"nonparametric\" method)\n# this produces a noise field having spatial correlation structure similar to \n# the input field\nprint(\"Initialize the filter...\")\ninit_noise, generate_noise = stp.noise.get_method(noise_method)\nF = init_noise(R)\n\n# generate the noise\nprint(\"Generate the noise fields...\")\nN=[]\nfor k in range(num_realizations):\n    N.append(generate_noise(F, seed=seed+k))\n\n# plot four realizations of the stochastic noise\nprint(\"Plot the results...\")\n\n## convert to rain rates [mm/h]    \nconverter = stp.utils.get_method(\"mm/h\")\nR, metadata = converter(R, metadata)\n\nnrows = int(np.ceil((1 + num_realizations)/4.))\nplt.subplot(nrows,4,1)\nfor k in range(num_realizations+1):\n    if k==0:\n        plt.subplot(nrows,4,k+1)\n        stp.plt.plot_precip_field(R[-1,:,:], units=metadata[\"unit\"], \n        title=\"Rainfall field\", colorbar=False)\n    else:\n        \n        N_ = N[k-1]\n        \n        plt.subplot(nrows,4,k+1)\n        plt.imshow(N_, cmap=cm.jet)\n        plt.xticks([])\n        plt.yticks([])\n        plt.title(\"Noise field %d\" % (k))\n\nplt.show()"
      ]
    }
  ],
  "metadata": {
    "kernelspec": {
      "display_name": "Python 3",
      "language": "python",
      "name": "python3"
    },
    "language_info": {
      "codemirror_mode": {
        "name": "ipython",
        "version": 3
      },
      "file_extension": ".py",
      "mimetype": "text/x-python",
      "name": "python",
      "nbconvert_exporter": "python",
      "pygments_lexer": "ipython3",
      "version": "3.6.7"
    }
  },
  "nbformat": 4,
  "nbformat_minor": 0
}